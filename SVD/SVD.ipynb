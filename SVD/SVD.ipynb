{
 "cells": [
  {
   "cell_type": "code",
   "execution_count": 1,
   "id": "9c1ba092",
   "metadata": {},
   "outputs": [],
   "source": [
    "import pandas as pd\n",
    "import numpy as np\n",
    "import re\n",
    "from plotnine import *\n",
    "import scipy\n",
    "from tqdm import tqdm\n",
    "import time"
   ]
  },
  {
   "cell_type": "code",
   "execution_count": 2,
   "id": "fb3d164c",
   "metadata": {},
   "outputs": [],
   "source": [
    "steam_clean = pd.read_csv('steam_users_purchase_play.csv',header =1,names=['user','game','hrs','purchase','play'])\n",
    "game_freq = steam_clean.groupby(by = 'game').agg({'user':'count', 'hrs':'sum'}).reset_index()\n",
    "top20 = game_freq.sort_values(by = 'user',ascending=False)[:20].reset_index()\n",
    "steam_clean['user']=steam_clean['user'].astype(int)\n",
    "steam_clean['game1'] = steam_clean['game'].apply(lambda x: re.sub('[^a-zA-Z0-9]', '', x))"
   ]
  },
  {
   "cell_type": "code",
   "execution_count": 4,
   "id": "fd1538b3",
   "metadata": {
    "scrolled": true
   },
   "outputs": [],
   "source": [
    "np.random.seed(910)\n",
    "\n",
    "game_freq['game1']=game_freq['game'].apply(lambda x: re.sub('[^a-zA-Z0-9]', '', x))\n",
    "\n",
    "game_users=game_freq[game_freq['user']>50]\n",
    "#for whole dataset\n",
    "steam_clean_pos = steam_clean[steam_clean['hrs']>2]\n",
    "steam_clean_pos_idx = steam_clean_pos['game1'].apply(lambda x:x in game_users['game1'].values)\n",
    "steam_clean_pos=steam_clean_pos[steam_clean_pos_idx]\n",
    "steam_clean_pos['loghrs']=np.log(steam_clean_pos['hrs'])\n",
    "\n",
    "#make matricx\n",
    "games=pd.DataFrame({'game1':sorted(steam_clean_pos['game1'].unique()),'game_id':range(len(steam_clean_pos['game1'].unique()))})\n",
    "users = pd.DataFrame({'user': sorted(steam_clean_pos['user'].unique()), 'user_id': range(len(steam_clean_pos['user'].unique()))})\n",
    "steam_clean_pos = pd.merge(steam_clean_pos, games, on=['game1'])\n",
    "steam_clean_pos = pd.merge(steam_clean_pos, users, on=['user'])\n",
    "\n",
    "ui_mat = np.zeros([len(users), len(games)])\n",
    "for i in range(steam_clean_pos.shape[0]):\n",
    "    line = steam_clean_pos.iloc[i]\n",
    "    ui_mat[line['user_id'], line['game_id']] = line['loghrs']"
   ]
  },
  {
   "cell_type": "code",
   "execution_count": 5,
   "id": "cd92f214",
   "metadata": {},
   "outputs": [],
   "source": [
    "steam_test = steam_clean_pos.sample(frac = 0.2, replace = False)\n",
    "steam_train = steam_clean_pos[~steam_clean_pos.isin(steam_test)].dropna()\n",
    "steam_test.to_csv('D:\\\\HKU\\\\data mining\\\\Game-Recommendation-System-master\\\\data\\\\test\\\\steam_test.csv') "
   ]
  },
  {
   "cell_type": "code",
   "execution_count": 6,
   "id": "d8352d86",
   "metadata": {},
   "outputs": [],
   "source": [
    "steam_train['user'] = steam_train['user'].astype(int)\n",
    "steam_train['game_id'] = steam_train['game_id'].astype(int)\n",
    "steam_train['user_id'] = steam_train['user_id'].astype(int)"
   ]
  },
  {
   "cell_type": "code",
   "execution_count": 7,
   "id": "dc527901",
   "metadata": {},
   "outputs": [],
   "source": [
    "user_test = steam_test.copy()\n",
    "user_test = user_test.drop(['game', 'hrs', 'purchase', 'play', 'game1', 'loghrs', 'game_id'], axis = 1)\n",
    "users_test = pd.DataFrame({'user':sorted(user_test['user'].unique()), 'user_id':sorted(user_test['user_id'].unique())})"
   ]
  },
  {
   "cell_type": "code",
   "execution_count": 8,
   "id": "49cf7c59",
   "metadata": {},
   "outputs": [],
   "source": [
    "user_train = steam_train.copy()\n",
    "user_train = user_train.drop(['game', 'hrs', 'purchase', 'play', 'game1', 'loghrs', 'game_id'], axis = 1)\n",
    "users_train = pd.DataFrame({'user':sorted(user_train['user'].unique()), 'user_id':sorted(user_train['user_id'].unique())})"
   ]
  },
  {
   "cell_type": "code",
   "execution_count": 9,
   "id": "3e06dc4b",
   "metadata": {},
   "outputs": [
    {
     "name": "stdout",
     "output_type": "stream",
     "text": [
      "Dimensions of training user-item matrix: (8206, 492)\n"
     ]
    }
   ],
   "source": [
    "# Create training set\n",
    "train = steam_train\n",
    "test=steam_test\n",
    "ui_train = ui_mat\n",
    "for i in range(test.shape[0]):\n",
    "    line = test.iloc[i]\n",
    "    ui_train[line['user_id'], line['game_id']] = 0\n",
    "print(\"Dimensions of training user-item matrix:\", ui_train.shape)\n"
   ]
  },
  {
   "cell_type": "code",
   "execution_count": 10,
   "id": "959b2eb6",
   "metadata": {},
   "outputs": [],
   "source": [
    "# Root Mean Squared error function, Evaluation metric for SVD\n",
    "def rmse(pred, train, data_frame=False):\n",
    "    train_pred = np.array([np.nan] * len(train))\n",
    "    for i in range(len(train)):\n",
    "        line = train.iloc[i]\n",
    "        train_pred[i] = pred[line['user_id'], line['game_id']]\n",
    "    if data_frame:\n",
    "        return pd.DataFrame({'train_pred': train_pred, 'loghrs': train['loghrs']})\n",
    "    return np.sqrt(1/(len(test)-1)*np.sum((train_pred - train['loghrs']) ** 2))"
   ]
  },
  {
   "cell_type": "code",
   "execution_count": 11,
   "id": "0c4bd9a6",
   "metadata": {},
   "outputs": [],
   "source": [
    "def mae(pred, train, data_frame=False):\n",
    "    train_pred = np.array([np.nan] * len(train))\n",
    "    for i in range(len(train)):\n",
    "        line = train.iloc[i]\n",
    "        train_pred[i] = pred[line['user_id'], line['game_id']]\n",
    "    if data_frame:\n",
    "        return pd.DataFrame({'train_pred': train_pred, 'loghrs': train['loghrs']})\n",
    "    return (1/(len(test)-1))*(np.sum(np.abs(train_pred - train['loghrs'])))"
   ]
  },
  {
   "cell_type": "code",
   "execution_count": null,
   "id": "0b133d75",
   "metadata": {},
   "outputs": [],
   "source": [
    "for col in I.columns:\n",
    "    I[col] = I[col].apply(lambda x: 1 if x > 0 else 0)"
   ]
  },
  {
   "cell_type": "code",
   "execution_count": 14,
   "id": "7dc6cfe0",
   "metadata": {},
   "outputs": [],
   "source": [
    "#SVD via gradient descent\n",
    "#Set the latent factor as 60\n",
    "leading_components=60\n",
    "\n",
    "# Setting matricies\n",
    "Y = pd.DataFrame(ui_train)\n",
    "I = Y.copy()\n",
    "\n",
    "np.random.seed(910)\n",
    "for col in I.columns:\n",
    "    I[col] = I[col].apply(lambda x: 1 if x > 0 else 0)\n",
    "U = np.random.normal(0, 0.01, [I.shape[0], leading_components])\n",
    "V = np.random.normal(0, 0.01, [I.shape[1], leading_components])\n",
    "#Squared error\n",
    "def f(U, V):\n",
    "    return np.sum(I.values*(np.dot(U, V.T)-Y.values)**2)    #SSE\n",
    "def dfu(U):\n",
    "    return np.dot((2*I.values*(np.dot(U, V.T)-Y.values)), V)\n",
    "def dfv(V):\n",
    "    return np.dot((2*I.values*(np.dot(U, V.T)-Y.values)).T, U)"
   ]
  },
  {
   "cell_type": "code",
   "execution_count": 15,
   "id": "33367774",
   "metadata": {},
   "outputs": [
    {
     "name": "stderr",
     "output_type": "stream",
     "text": [
      "100%|██████████| 200/200 [27:58<00:00,  8.39s/it]\n"
     ]
    },
    {
     "name": "stdout",
     "output_type": "stream",
     "text": [
      "Time difference of 27.977915513515473 mins\n",
      "     itr         fobj     fobjp      rmse     rmsep       mae      maep\n",
      "200  201  2959.185141  0.009563  0.647563  0.097791  0.790215  0.067421\n"
     ]
    },
    {
     "data": {
      "image/png": "[encoded data removed]",
      "text/plain": [
       "<Figure size 640x480 with 1 Axes>"
      ]
     },
     "metadata": {},
     "output_type": "display_data"
    },
    {
     "name": "stdout",
     "output_type": "stream",
     "text": [
      "\n"
     ]
    }
   ],
   "source": [
    "#Gradient descent\n",
    "N = 200\n",
    "alpha = 0.001\n",
    "pred = np.round(np.dot(U, V.T), decimals=2)\n",
    "fobj = [f(U, V)]\n",
    "rmsej = [rmse(pred, train)]\n",
    "maej = [mae(pred, train)]\n",
    "start = time.time()\n",
    "#process iteratively until we get to the bottom\n",
    "for i in tqdm(range(N)):\n",
    "    U = U - alpha*dfu(U)\n",
    "    V = V - alpha*dfv(V)\n",
    "    fobj.append(f(U, V))\n",
    "    pred = np.round(np.dot(U, V.T), 2)\n",
    "    rmsej.append(rmse(pred, train))\n",
    "    maej.append(mae(pred, train))\n",
    "    \n",
    "print('Time difference of {} mins'.format((time.time() - start) / 60))\n",
    "#fojb predicted values\n",
    "fojb = np.array(fobj)\n",
    "#rmsej actual observed values\n",
    "rmsej = np.array(rmsej)\n",
    "maej = np.array(maej)\n",
    "path1 = pd.DataFrame({'itr': range(1, N+2), 'fobj': fobj, 'fobjp': fobj/max(fobj), 'rmse': rmsej, 'rmsep': rmsej/max(rmsej), 'mae': maej, 'maep': maej/max(maej)})\n",
    "path1gg = pd.melt(path1[[\"itr\", \"fobjp\", \"rmsep\"]], id_vars=['itr'])\n",
    "print(path1.tail(1))\n",
    "\n",
    "print(ggplot(path1gg, aes('itr', 'value', color = 'variable')) + geom_line())"
   ]
  },
  {
   "cell_type": "code",
   "execution_count": 23,
   "id": "af5288f1",
   "metadata": {},
   "outputs": [],
   "source": [
    "# Export recommend games\n",
    "user_dict = dict(users.values)\n",
    "game_dict = {games.iloc[i, 0]: games.iloc[i, 1] for i in range(games.shape[0])}   #key: name vlaue: number\n",
    "\n",
    "reverse_game_dict = {games.iloc[i, 1]: games.iloc[i, 0] for i in range(games.shape[0])}  #key: number  value: name\n",
    "pred_percentile = pd.DataFrame(pred)\n",
    "for i in range(pred_percentile.shape[0]):\n",
    "    pred_percentile.iloc[i,:] = pred_percentile.iloc[i,:].rank(method = 'first')\n",
    "    \n",
    "pred_percentile=pred_percentile.values\n",
    "pred_percentile = np.argsort(-pred_percentile,axis=1)"
   ]
  },
  {
   "cell_type": "code",
   "execution_count": 24,
   "id": "ddff6d1f",
   "metadata": {},
   "outputs": [],
   "source": [
    "def top(n, user, print_value=True):\n",
    "    #Not consider the games has been purchsed\n",
    "    not_purchased = (I- 1) % 2\n",
    "    t_user = user\n",
    "    user = user_dict[user]\n",
    "    top_games = (pred_percentile*not_purchased).iloc[user]\n",
    "    top_games = list(top_games[:n])\n",
    "    if print_value:\n",
    "        print('top {} recommended games for user {}: '.format(n, t_user))\n",
    "        for i in range(n):\n",
    "            print(i, \")\", reverse_game_dict[top_games[i]])\n",
    "    else:\n",
    "        result = [t_user]\n",
    "        for i in range(n):\n",
    "            result.append(reverse_game_dict[top_games[i]])\n",
    "        return result\n",
    "    "
   ]
  },
  {
   "cell_type": "code",
   "execution_count": 25,
   "id": "24d42dc0",
   "metadata": {},
   "outputs": [
    {
     "name": "stderr",
     "output_type": "stream",
     "text": [
      "3181it [06:30,  8.15it/s]\n"
     ]
    }
   ],
   "source": [
    "top_N = 20\n",
    "result = []\n",
    "users_merge=users_test\n",
    "for idx, user in tqdm(enumerate(users_merge['user'].values)):\n",
    "    result.append(top(top_N, user, False))\n",
    "\n",
    "users_not=users_test[~users_test['user'].isin(users_merge['user'])]\n",
    "for user in users_not['user']:\n",
    "    empty=[user]\n",
    "    for i in range(top_N):\n",
    "        empty.append(0)\n",
    "    result.append(empty)\n",
    "recommendations = pd.DataFrame(result)\n",
    "columns = ['user_id'] + ['{}'.format(i+1) for i in range(top_N)]\n",
    "recommendations.columns = columns\n",
    "#recommendations.to_csv('D:\\\\HKU\\\\data mining\\\\Game-Recommendation-System-master\\\\data\\\\test\\\\Collaborative_EM_output.csv', index=None)"
   ]
  },
  {
   "cell_type": "code",
   "execution_count": 26,
   "id": "78b1e739",
   "metadata": {},
   "outputs": [
    {
     "data": {
      "text/plain": [
       "0.26343348763831315"
      ]
     },
     "execution_count": 26,
     "metadata": {},
     "output_type": "execute_result"
    }
   ],
   "source": [
    "dataTest =steam_test\n",
    "\n",
    "def precision(n):\n",
    "    dataOutputs = recommendations.copy()\n",
    "\n",
    "    dataOutputs[\"numberGamesUserHasInTest\"] = 0\n",
    "    dataOutputs[\"numberRecommendationUserHas\"] = 0\n",
    "    dataOutputs[\"precision\"] = 0\n",
    "\n",
    "    for i, row in dataOutputs.iterrows():\n",
    "        userGames = dataTest[dataTest[\"user\"] == row[\"user_id\"]][\"game1\"].tolist()\n",
    "        dataOutputs.at[i, 'numberGamesUserHasInTest'] = len(userGames)\n",
    "        count = 0\n",
    "        for j in range(1, n+1):\n",
    "            if row[j] in userGames:\n",
    "                count += 1\n",
    "        dataOutputs.at[i, \"numberRecommendationUserHas\"] = count\n",
    "        if len(userGames) != 0:\n",
    "            if len(userGames)<n:\n",
    "                dataOutputs.at[i, \"precision\"] = float(count/len(userGames))\n",
    "            else:\n",
    "                dataOutputs.at[i, \"precision\"] = float(count/n)\n",
    "    precision = dataOutputs[\"precision\"].mean()\n",
    "    return precision\n",
    "\n",
    "precision(20)"
   ]
  },
  {
   "cell_type": "code",
   "execution_count": 27,
   "id": "4d95ebf6",
   "metadata": {},
   "outputs": [
    {
     "data": {
      "text/plain": [
       "0.26342720030728517"
      ]
     },
     "execution_count": 27,
     "metadata": {},
     "output_type": "execute_result"
    }
   ],
   "source": [
    "dataTest =steam_test\n",
    "def recall(n):\n",
    "    dataOutputs = recommendations.copy()\n",
    "    \n",
    "    dataOutputs[\"numberGamesUserHasInTest\"] = 0\n",
    "    dataOutputs[\"numberRecommendationUserHas\"] = 0\n",
    "    dataOutputs[\"recall\"] = 0\n",
    "\n",
    "    for i, row in dataOutputs.iterrows():\n",
    "        userGames = dataTest[dataTest[\"user\"] == row[\"user_id\"]][\"game1\"].tolist()\n",
    "        dataOutputs.at[i, 'numberGamesUserHasInTest'] = len(userGames)\n",
    "        count = 0\n",
    "        for j in range(1, n+1):\n",
    "            if row[j] in userGames:\n",
    "                count += 1\n",
    "        dataOutputs.at[i, \"numberRecommendationUserHas\"] = count\n",
    "        if len(userGames) != 0:\n",
    "            dataOutputs.at[i, \"recall\"] = float(count/len(userGames))\n",
    "    recall = dataOutputs[\"recall\"].mean()\n",
    "    return recall\n",
    "\n",
    "recall(20)   "
   ]
  },
  {
   "cell_type": "code",
   "execution_count": 28,
   "id": "6f296218",
   "metadata": {},
   "outputs": [
    {
     "data": {
      "text/plain": [
       "0.263430343935284"
      ]
     },
     "execution_count": 28,
     "metadata": {},
     "output_type": "execute_result"
    }
   ],
   "source": [
    "def F1(n):\n",
    "    P = precision(n)\n",
    "    R = recall(n)\n",
    "    F1 = 2*((P * R) / (P + R))\n",
    "    return F1\n",
    "F1(20)"
   ]
  },
  {
   "cell_type": "code",
   "execution_count": null,
   "id": "291ea327",
   "metadata": {},
   "outputs": [],
   "source": []
  }
 ],
 "metadata": {
  "kernelspec": {
   "display_name": "Python 3 (ipykernel)",
   "language": "python",
   "name": "python3"
  },
  "language_info": {
   "codemirror_mode": {
    "name": "ipython",
    "version": 3
   },
   "file_extension": ".py",
   "mimetype": "text/x-python",
   "name": "python",
   "nbconvert_exporter": "python",
   "pygments_lexer": "ipython3",
   "version": "3.9.12"
  }
 },
 "nbformat": 4,
 "nbformat_minor": 5
}
